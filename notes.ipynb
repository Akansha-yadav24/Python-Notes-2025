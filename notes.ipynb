<center>      <h1>Python Notes</h1> 
</center>


## 1. Python Syntax and Structure

- **Case Sensitivity**: 🐍 is 🖊️-sensitive. Variables `name` and `Name` are different.
- **Indentation**: Indentation is crucial for defining 📦 of code (e.g., in 🔁, 🛠️, conditionals). 🐍 does not use braces (`{}`) like some other 🌐.
  ```python
  if True:
      print("This is indented correctly")
  ```
- **Comments**: Use `#` for 🖋️ comments and 🟰 quotes (`'''` or `"""`) for multi-line 🖋️.
  ```python
  # This is a single-line 🖋️
  """
  This is a 🖋️
  multi-line 🖋️
  """
  ```
- **Statements**: Each 📜 of code represents a 📄. Multiple 📄 can be written on the same 📜 using `;`, though this is discouraged for 👀.
  ```python
  x = 5; y = 10; print(x + y)
  ```

---

## 2. Variables and Data Types

### Variables
- 📦 are 🛠️ for storing 📊 values.
- 📦 names should be descriptive and follow 📏:
  - Must start with a 🔡 or `_`.
  - Cannot start with a 🔢.
  - Can only contain 🔡, 🔢, and `_`.
  ```python
  age = 25
  _name = "Alice"
  is_active = True
  ```

### 📊 Types
🐍 supports many built-in 📊 types:
- **🔢 Types**: `int`, `float`, `complex`
  ```python
  num = 10      # int
  price = 19.99 # 💵
  z = 3 + 4j    # 🧩
  ```
- **📜 Type**: `str`
  ```python
  name = "Python"
  ```
- **Boolean**: `bool`
  ```python
  is_valid = ✅
  is_admin = ❌
  ```
- **📚 Types**: `list`, `tuple`, `range`
  ```python
  items = [1, 2, 3]   # 📋
  coordinates = (4, 5) # 🎯
  numbers = range(6)  # 🔢
  ```
- **Mapping Type**: `dict`
  ```python
  person = {"name": "John", "age": 30}
  ```
- **Set Types**: `set`, `frozenset`
  ```python
  unique_numbers = {1, 2, 3}
  ```
- **None Type**: `NoneType`
  ```python
  result = None
  ```

---

## 3. Input and Output Operations

### Input
- Use `input()` to get 👤 input. The result is always a 📜.
  ```python
  name = input("Enter your 👤: ")
  print("👋, " + name)
  ```

### Output
- Use `print()` to 📤 output.
- 🛠️ multiple 🎟️ separated by `,`.
  ```python
  print("👤:", name)
  print("Age:", 25)
  ```
- 📜 formatting for 🎭 output:
  ```python
  print(f"Welcome, {name}!")  # f-📜
  print("👋, {}!".format(name))
  ```

---

## 📜 Manipulation and 🧩

### 📜 Manipulation
- 📜 are immutable sequences of 🔡.
- Access 🔡 using indexing:
  ```python
  text = "👋"
  print(text[0])  # 👋
  print(text[-1]) # o
  ```
- ✂️ 📜:
  ```python
  print(text[1:4])  # ell
  print(text[:2])   # He
  print(text[2:])   # llo
  ```
- Common 📜 methods:
  ```python
  text = "🐍 Programming"
  print(text.lower())  # 🐍 programming
  print(text.upper())  # 🐍 PROGRAMMING
  print(text.replace("🐍", "☕"))  # ☕ Programming
  print(text.split())  # ['🐍', 'Programming']
  ```

### 🧩
- Combine 📜 using `+`:
  ```python
  first_name = "John"
  last_name = "Doe"
  full_name = first_name + " " + last_name
  print(full_name)  # John Doe
  ```
- Repeat 📜 using `*`:
  ```python
  print("Hi! " * 3)  # Hi! Hi! Hi!
  ```
- Joining 📜 using `join()`:
  ```python
  words = ["🐍", "is", "awesome"]
  sentence = " ".join(words)
  print(sentence)  # 🐍 is awesome
  ```

---

## 4. Operators in Python

### Arithmetic Operators
- Perform mathematical operations:
  ```python
  x = 10
  y = 3
  print(x + y)  # Addition: 13
  print(x - y)  # Subtraction: 7
  print(x * y)  # Multiplication: 30
  print(x / y)  # Division: 3.33
  print(x // y) # Floor Division: 3
  print(x % y)  # Modulus: 1
  print(x ** y) # Exponentiation: 1000
  ```

### Comparison Operators
- Compare values and return `True` or `False`:
  ```python
  print(x > y)   # Greater than: True
  print(x < y)   # Less than: False
  print(x == y)  # Equal to: False
  print(x != y)  # Not equal to: True
  print(x >= y)  # Greater than or equal to: True
  print(x <= y)  # Less than or equal to: False
  ```

### Logical Operators
- Combine conditional statements:
  ```python
  print(x > 5 and y < 5)  # True
  print(x > 15 or y < 5)  # True
  print(not(x > 5))       # False
  ```

---

## 5. Conditional Statements

### If-Else Structure
- Execute code based on conditions:
  ```python
  age = 18
  if age >= 18:
      print("You are an adult!")
  else:
      print("You are a minor!")
  ```

### Elif
- Add multiple conditions:
  ```python
  marks = 85
  if marks >= 90:
      print("Grade: A+")
  elif marks >= 75:
      print("Grade: A")
  else:
      print("Grade: B")
  ```

### Nested If
- Conditions within conditions:
  ```python
  num = 15
  if num > 10:
      if num % 2 == 0:
          print("Even and greater than 10")
      else:
          print("Odd and greater than 10")
  ```

